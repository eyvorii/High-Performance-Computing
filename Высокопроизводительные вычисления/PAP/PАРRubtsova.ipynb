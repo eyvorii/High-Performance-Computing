{
  "nbformat": 4,
  "nbformat_minor": 0,
  "metadata": {
    "colab": {
      "provenance": []
    },
    "kernelspec": {
      "name": "python3",
      "display_name": "Python 3"
    },
    "language_info": {
      "name": "python"
    }
  },
  "cells": [
    {
      "cell_type": "markdown",
      "source": [
        "### Разбиение множества. Дано некоторое количество предметов и веса каждого из них. Определить, можно ли сгруппировать эти предметы в две группы так, чтобы вес обеих групп был одинаков.\n"
      ],
      "metadata": {
        "id": "AItabUQnjffu"
      }
    },
    {
      "cell_type": "code",
      "source": [
        "import time"
      ],
      "metadata": {
        "id": "3n6muYFrwxXj"
      },
      "execution_count": null,
      "outputs": []
    },
    {
      "cell_type": "markdown",
      "source": [
        "### Функция для считывания данных из файла"
      ],
      "metadata": {
        "id": "9cS68DTEsL1U"
      }
    },
    {
      "cell_type": "code",
      "execution_count": null,
      "metadata": {
        "id": "yb2t_v4RsDDb"
      },
      "outputs": [],
      "source": [
        "def read_weights_from_file(filename):\n",
        "    file = open(filename, 'r')\n",
        "    data = file.read().strip().split(',')\n",
        "    count = int(data[0])\n",
        "    weights = list(map(int, data[1:]))\n",
        "    if len(weights) != count:\n",
        "        raise ValueError(\"Количество весов не соответствует указанному количеству предметов.\")\n",
        "    return weights"
      ]
    },
    {
      "cell_type": "markdown",
      "source": [
        "### Функиця проверки на разделение"
      ],
      "metadata": {
        "id": "CYWLTYKdtrWo"
      }
    },
    {
      "cell_type": "code",
      "source": [
        "def can_partition(nums):\n",
        "    total_sum = sum(nums)\n",
        "\n",
        "    # Если сумма всех элементов нечетная, то разделить\n",
        "    # пополам невозможно\n",
        "    if total_sum % 2 != 0:\n",
        "        return False\n",
        "\n",
        "    target = total_sum // 2\n",
        "    n = len(nums)\n",
        "\n",
        "    # Создаем таблицу для динамического программирования\n",
        "    dp = [False] * (target + 1)\n",
        "    dp[0] = True\n",
        "\n",
        "    # Обновляем таблицу dp\n",
        "    for num in nums:\n",
        "        for j in range(target, num - 1, -1):\n",
        "            if dp[j - num]:\n",
        "                dp[j] = True\n",
        "\n",
        "    return dp[target]"
      ],
      "metadata": {
        "id": "ZIpFuOUVsXQN"
      },
      "execution_count": null,
      "outputs": []
    },
    {
      "cell_type": "markdown",
      "source": [
        "# Функция Main"
      ],
      "metadata": {
        "id": "tynqpjPjuISF"
      }
    },
    {
      "cell_type": "code",
      "source": [
        "filename = \"weights.txt\"\n",
        "\n",
        "try:\n",
        "  start_time = time.time()\n",
        "  weights = read_weights_from_file(filename)\n",
        "  end_time = time.time()\n",
        "  time = end_time - start_time\n",
        "  print('Веса: ', weights)\n",
        "  print('Время затраченное на чтение: ',time)\n",
        "  if can_partition(weights):\n",
        "    print(\"Можно разделить на две группы с равной суммой весов.\")\n",
        "  else:\n",
        "    print(\"Невозможно разделить на две группы с равной суммой весов.\")\n",
        "except Exception as e:\n",
        "  print(f\"Произошла ошибка: {e}\")"
      ],
      "metadata": {
        "colab": {
          "base_uri": "https://localhost:8080/"
        },
        "id": "akF2hPoyuNNg",
        "outputId": "c5f51c0f-2530-4078-c04f-5197097a39a6"
      },
      "execution_count": null,
      "outputs": [
        {
          "output_type": "stream",
          "name": "stdout",
          "text": [
            "Веса:  [1, 5, 11, 11]\n",
            "Время затраченное на чтение:  0.0008606910705566406\n",
            "Невозможно разделить на две группы с равной суммой весов.\n"
          ]
        }
      ]
    },
    {
      "cell_type": "code",
      "source": [],
      "metadata": {
        "id": "20wtIvjowRge"
      },
      "execution_count": null,
      "outputs": []
    }
  ]
}